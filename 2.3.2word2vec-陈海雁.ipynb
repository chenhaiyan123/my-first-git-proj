{
 "cells": [
  {
   "cell_type": "code",
   "execution_count": 1,
   "metadata": {},
   "outputs": [],
   "source": [
    "import pandas as pd\n",
    "from gensim.models import Word2Vec\n",
    "from gensim.models.word2vec import LineSentence"
   ]
  },
  {
   "cell_type": "code",
   "execution_count": 6,
   "metadata": {},
   "outputs": [
    {
     "data": {
      "text/html": [
       "<div>\n",
       "<style scoped>\n",
       "    .dataframe tbody tr th:only-of-type {\n",
       "        vertical-align: middle;\n",
       "    }\n",
       "\n",
       "    .dataframe tbody tr th {\n",
       "        vertical-align: top;\n",
       "    }\n",
       "\n",
       "    .dataframe thead th {\n",
       "        text-align: right;\n",
       "    }\n",
       "</style>\n",
       "<table border=\"1\" class=\"dataframe\">\n",
       "  <thead>\n",
       "    <tr style=\"text-align: right;\">\n",
       "      <th></th>\n",
       "      <th>id</th>\n",
       "      <th>word</th>\n",
       "    </tr>\n",
       "  </thead>\n",
       "  <tbody>\n",
       "    <tr>\n",
       "      <th>0</th>\n",
       "      <td>1</td>\n",
       "      <td>大卫</td>\n",
       "    </tr>\n",
       "    <tr>\n",
       "      <th>1</th>\n",
       "      <td>1</td>\n",
       "      <td>李髌骨</td>\n",
       "    </tr>\n",
       "    <tr>\n",
       "      <th>2</th>\n",
       "      <td>1</td>\n",
       "      <td>韧带</td>\n",
       "    </tr>\n",
       "    <tr>\n",
       "      <th>3</th>\n",
       "      <td>1</td>\n",
       "      <td>撕裂</td>\n",
       "    </tr>\n",
       "    <tr>\n",
       "      <th>4</th>\n",
       "      <td>1</td>\n",
       "      <td>等待</td>\n",
       "    </tr>\n",
       "  </tbody>\n",
       "</table>\n",
       "</div>"
      ],
      "text/plain": [
       "   id word\n",
       "0   1   大卫\n",
       "1   1  李髌骨\n",
       "2   1   韧带\n",
       "3   1   撕裂\n",
       "4   1   等待"
      ]
     },
     "execution_count": 6,
     "metadata": {},
     "output_type": "execute_result"
    }
   ],
   "source": [
    "#读取数据\n",
    "df=pd.read_csv('tiyu.csv',encoding='gbk')\n",
    "df.head()"
   ]
  },
  {
   "cell_type": "code",
   "execution_count": 9,
   "metadata": {},
   "outputs": [
    {
     "name": "stdout",
     "output_type": "stream",
     "text": [
      "[['大卫', '李髌骨', '韧带', '撕裂', '等待', 'MRI', '篮球', '5月', '21日', 'NBA', '记者', 'MichaelC.Wright', 'RamonaShelburne', '联合', '报道', '消息', '人士', '透露', '马刺', '大卫', '诊断', '膝盖', '韧带', '撕裂', '当地', '时间', '周日', '接受', '核磁共振', '检查', '确认', '伤势', '马刺', '今天', '主场', '勇士', '系列赛', '比分', '落后', '李本场', '比赛', '进攻', '落地', '不幸', '膝盖', '提前', '退出', '比赛', '今年', '季后赛', '李场', '出战', '4.1分', '篮板', '来源', 'Twitter'], ['尤文', '双冠', '剑指', '欧冠', '决赛', '皇马', '北京', '时间', '5月', '21日', '尤文图斯', '主场', '血虐克', '罗托', '提前', '夺得', '意甲', '冠军', '史无前例', '蝉联', '意甲', '5月', '18日', '意大利杯', '实现', '杯赛', '三连冠', '目前', '尤文', '赛季', '展现', '强大', '实力', '目标', '13年', '拜仁', '赛季', '剑指', '尤文', '上一场', '联赛', '比赛', '罗马', '尤文', '意大利杯', '决赛', '前景', '担忧', '斑马军团', '完美', '打消', '拥趸', '疑虑', '顺利', '夺得', '赛季', '冠军', '头衔', '尤文', '处于', '皮亚尼奇', '赫迪拉', '中场', '主力', '无法', '出场', '情况', '完成', '卫冕', '赛季', '尤文', '想起', '拜仁慕尼黑', '当时', '拥有', '强大', '罗贝里', '组合', '穆勒', '拉姆', '施魏', '施泰格', '进攻', '防守', '两端', '强硬', '会师', '欧冠', '决赛', '罗本', '一锤定音', '拜仁', '球迷', '夜晚', '流下', '热泪', '布冯', '能够', '年龄', '耳朵杯', '职业', '生涯', '集齐', '世界杯'], ['花式', '吐饼', '看看', '尼日利亚', '老乡', '北京', '时间', '5月', '21日', '中超', '继续', '展开', '较量', '长春', '亚泰', '坐镇', '经开', '体育场', '迎来', '天津', '泰达', '挑战', '。本场', '比赛', '陷入', '保级', '泥潭', '试图', '上半场', '主场', '作战', '亚泰', '发难', '胡斯蒂', '主罚', '前场', '任意球', '亚泰', '中卫', '孙捷', '力压', '防守', '球员', '头槌', '破门', '主队', '纪录', '下半场', '惠家康', '精彩', '边路', '突破', '助攻', '德耶', '闪电', '扳平', '比分', '双方', '起跑线', '比赛', '双方', '制造', '破门', '机会', '亚泰', '获得', '点球', '良机', '皮球', '直接', '送入', '对方', '门将', '怀中', '未能', '破门', '战罢', '双方', '握手言和', '相比', '平和', '比分', '双方', '外援', '浪费', '进球', '机会', '唏嘘不已', '亚泰', '队长']]\n",
      "['大卫 李髌骨 韧带 撕裂 等待 MRI 篮球 5月 21日 NBA 记者 MichaelC.Wright RamonaShelburne 联合 报道 消息 人士 透露 马刺 大卫 诊断 膝盖 韧带 撕裂 当地 时间 周日 接受 核磁共振 检查 确认 伤势 马刺 今天 主场 勇士 系列赛 比分 落后 李本场 比赛 进攻 落地 不幸 膝盖 提前 退出 比赛 今年 季后赛 李场 出战 4.1分 篮板 来源 Twitter', '尤文 双冠 剑指 欧冠 决赛 皇马 北京 时间 5月 21日 尤文图斯 主场 血虐克 罗托 提前 夺得 意甲 冠军 史无前例 蝉联 意甲 5月 18日 意大利杯 实现 杯赛 三连冠 目前 尤文 赛季 展现 强大 实力 目标 13年 拜仁 赛季 剑指 尤文 上一场 联赛 比赛 罗马 尤文 意大利杯 决赛 前景 担忧 斑马军团 完美 打消 拥趸 疑虑 顺利 夺得 赛季 冠军 头衔 尤文 处于 皮亚尼奇 赫迪拉 中场 主力 无法 出场 情况 完成 卫冕 赛季 尤文 想起 拜仁慕尼黑 当时 拥有 强大 罗贝里 组合 穆勒 拉姆 施魏 施泰格 进攻 防守 两端 强硬 会师 欧冠 决赛 罗本 一锤定音 拜仁 球迷 夜晚 流下 热泪 布冯 能够 年龄 耳朵杯 职业 生涯 集齐 世界杯', '花式 吐饼 看看 尼日利亚 老乡 北京 时间 5月 21日 中超 继续 展开 较量 长春 亚泰 坐镇 经开 体育场 迎来 天津 泰达 挑战 。本场 比赛 陷入 保级 泥潭 试图 上半场 主场 作战 亚泰 发难 胡斯蒂 主罚 前场 任意球 亚泰 中卫 孙捷 力压 防守 球员 头槌 破门 主队 纪录 下半场 惠家康 精彩 边路 突破 助攻 德耶 闪电 扳平 比分 双方 起跑线 比赛 双方 制造 破门 机会 亚泰 获得 点球 良机 皮球 直接 送入 对方 门将 怀中 未能 破门 战罢 双方 握手言和 相比 平和 比分 双方 外援 浪费 进球 机会 唏嘘不已 亚泰 队长']\n"
     ]
    }
   ],
   "source": [
    "cps=[]\n",
    "line_sent=[]\n",
    "for i in df.groupby(['id']):\n",
    "    seg_list=list(i[1].word)\n",
    "    line_sent.append(seg_list)\n",
    "    seg=' '.join(seg_list)\n",
    "    cps.append(seg)\n",
    "print(line_sent)\n",
    "print(cps)"
   ]
  },
  {
   "cell_type": "code",
   "execution_count": 11,
   "metadata": {},
   "outputs": [
    {
     "name": "stdout",
     "output_type": "stream",
     "text": [
      "{'大卫': 2, '李髌骨': 1, '韧带': 2, '撕裂': 2, '等待': 1, 'MRI': 1, '篮球': 1, '5月': 1, '21日': 1, 'NBA': 1, '记者': 1, 'MichaelC.Wright': 1, 'RamonaShelburne': 1, '联合': 1, '报道': 1, '消息': 1, '人士': 1, '透露': 1, '马刺': 2, '诊断': 1, '膝盖': 2, '当地': 1, '时间': 1, '周日': 1, '接受': 1, '核磁共振': 1, '检查': 1, '确认': 1, '伤势': 1, '今天': 1, '主场': 1, '勇士': 1, '系列赛': 1, '比分': 1, '落后': 1, '李本场': 1, '比赛': 2, '进攻': 1, '落地': 1, '不幸': 1, '提前': 1, '退出': 1, '今年': 1, '季后赛': 1, '李场': 1, '出战': 1, '4.1分': 1, '篮板': 1, '来源': 1, 'Twitter': 1}\n",
      "{'尤文': 6, '双冠': 1, '剑指': 2, '欧冠': 2, '决赛': 3, '皇马': 1, '北京': 1, '时间': 1, '5月': 2, '21日': 1, '尤文图斯': 1, '主场': 1, '血虐克': 1, '罗托': 1, '提前': 1, '夺得': 2, '意甲': 2, '冠军': 2, '史无前例': 1, '蝉联': 1, '18日': 1, '意大利杯': 2, '实现': 1, '杯赛': 1, '三连冠': 1, '目前': 1, '赛季': 4, '展现': 1, '强大': 2, '实力': 1, '目标': 1, '13年': 1, '拜仁': 2, '上一场': 1, '联赛': 1, '比赛': 1, '罗马': 1, '前景': 1, '担忧': 1, '斑马军团': 1, '完美': 1, '打消': 1, '拥趸': 1, '疑虑': 1, '顺利': 1, '头衔': 1, '处于': 1, '皮亚尼奇': 1, '赫迪拉': 1, '中场': 1, '主力': 1, '无法': 1, '出场': 1, '情况': 1, '完成': 1, '卫冕': 1, '想起': 1, '拜仁慕尼黑': 1, '当时': 1, '拥有': 1, '罗贝里': 1, '组合': 1, '穆勒': 1, '拉姆': 1, '施魏': 1, '施泰格': 1, '进攻': 1, '防守': 1, '两端': 1, '强硬': 1, '会师': 1, '罗本': 1, '一锤定音': 1, '球迷': 1, '夜晚': 1, '流下': 1, '热泪': 1, '布冯': 1, '能够': 1, '年龄': 1, '耳朵杯': 1, '职业': 1, '生涯': 1, '集齐': 1, '世界杯': 1}\n",
      "{'花式': 1, '吐饼': 1, '看看': 1, '尼日利亚': 1, '老乡': 1, '北京': 1, '时间': 1, '5月': 1, '21日': 1, '中超': 1, '继续': 1, '展开': 1, '较量': 1, '长春': 1, '亚泰': 5, '坐镇': 1, '经开': 1, '体育场': 1, '迎来': 1, '天津': 1, '泰达': 1, '挑战': 1, '。本场': 1, '比赛': 2, '陷入': 1, '保级': 1, '泥潭': 1, '试图': 1, '上半场': 1, '主场': 1, '作战': 1, '发难': 1, '胡斯蒂': 1, '主罚': 1, '前场': 1, '任意球': 1, '中卫': 1, '孙捷': 1, '力压': 1, '防守': 1, '球员': 1, '头槌': 1, '破门': 3, '主队': 1, '纪录': 1, '下半场': 1, '惠家康': 1, '精彩': 1, '边路': 1, '突破': 1, '助攻': 1, '德耶': 1, '闪电': 1, '扳平': 1, '比分': 2, '双方': 4, '起跑线': 1, '制造': 1, '机会': 2, '获得': 1, '点球': 1, '良机': 1, '皮球': 1, '直接': 1, '送入': 1, '对方': 1, '门将': 1, '怀中': 1, '未能': 1, '战罢': 1, '握手言和': 1, '相比': 1, '平和': 1, '外援': 1, '浪费': 1, '进球': 1, '唏嘘不已': 1, '队长': 1}\n"
     ]
    }
   ],
   "source": [
    "#计算词频\n",
    "import nltk\n",
    "for i in cps:\n",
    "    ii=i.split(' ')\n",
    "    cfd=dict(nltk.FreqDist(ii))\n",
    "    print(cfd)"
   ]
  },
  {
   "cell_type": "code",
   "execution_count": 13,
   "metadata": {},
   "outputs": [
    {
     "name": "stdout",
     "output_type": "stream",
     "text": [
      "Word2Vec(vocab=198, size=300, alpha=0.025)\n"
     ]
    }
   ],
   "source": [
    "model=Word2Vec(line_sent,\n",
    "              size=300,\n",
    "              window=5,\n",
    "              min_count=1,\n",
    "              workers=2)\n",
    "print(model)\n",
    "model.save('./word2vec.model')"
   ]
  },
  {
   "cell_type": "code",
   "execution_count": 14,
   "metadata": {},
   "outputs": [
    {
     "name": "stdout",
     "output_type": "stream",
     "text": [
      "{'大卫': <gensim.models.keyedvectors.Vocab object at 0x7faf557c5320>, '李髌骨': <gensim.models.keyedvectors.Vocab object at 0x7faf557c5358>, '韧带': <gensim.models.keyedvectors.Vocab object at 0x7faf557c5390>, '撕裂': <gensim.models.keyedvectors.Vocab object at 0x7faf557c53c8>, '等待': <gensim.models.keyedvectors.Vocab object at 0x7faf557c5400>, 'MRI': <gensim.models.keyedvectors.Vocab object at 0x7faf557c5438>, '篮球': <gensim.models.keyedvectors.Vocab object at 0x7faf557c5470>, '5月': <gensim.models.keyedvectors.Vocab object at 0x7faf557c54a8>, '21日': <gensim.models.keyedvectors.Vocab object at 0x7faf557c54e0>, 'NBA': <gensim.models.keyedvectors.Vocab object at 0x7faf557c5518>, '记者': <gensim.models.keyedvectors.Vocab object at 0x7faf557c5550>, 'MichaelC.Wright': <gensim.models.keyedvectors.Vocab object at 0x7faf557c5588>, 'RamonaShelburne': <gensim.models.keyedvectors.Vocab object at 0x7faf557c55c0>, '联合': <gensim.models.keyedvectors.Vocab object at 0x7faf557c55f8>, '报道': <gensim.models.keyedvectors.Vocab object at 0x7faf557c5630>, '消息': <gensim.models.keyedvectors.Vocab object at 0x7faf557c5668>, '人士': <gensim.models.keyedvectors.Vocab object at 0x7faf557c56a0>, '透露': <gensim.models.keyedvectors.Vocab object at 0x7faf557c56d8>, '马刺': <gensim.models.keyedvectors.Vocab object at 0x7faf557c5710>, '诊断': <gensim.models.keyedvectors.Vocab object at 0x7faf557c5748>, '膝盖': <gensim.models.keyedvectors.Vocab object at 0x7faf557c5780>, '当地': <gensim.models.keyedvectors.Vocab object at 0x7faf557c57b8>, '时间': <gensim.models.keyedvectors.Vocab object at 0x7faf557c57f0>, '周日': <gensim.models.keyedvectors.Vocab object at 0x7faf557c5828>, '接受': <gensim.models.keyedvectors.Vocab object at 0x7faf557c5860>, '核磁共振': <gensim.models.keyedvectors.Vocab object at 0x7faf557c5898>, '检查': <gensim.models.keyedvectors.Vocab object at 0x7faf557c58d0>, '确认': <gensim.models.keyedvectors.Vocab object at 0x7faf557c5908>, '伤势': <gensim.models.keyedvectors.Vocab object at 0x7faf557c5940>, '今天': <gensim.models.keyedvectors.Vocab object at 0x7faf557c5978>, '主场': <gensim.models.keyedvectors.Vocab object at 0x7faf557c59b0>, '勇士': <gensim.models.keyedvectors.Vocab object at 0x7faf557c59e8>, '系列赛': <gensim.models.keyedvectors.Vocab object at 0x7faf557c5a20>, '比分': <gensim.models.keyedvectors.Vocab object at 0x7faf557c5a58>, '落后': <gensim.models.keyedvectors.Vocab object at 0x7faf557c5a90>, '李本场': <gensim.models.keyedvectors.Vocab object at 0x7faf557c5ac8>, '比赛': <gensim.models.keyedvectors.Vocab object at 0x7faf557c5b00>, '进攻': <gensim.models.keyedvectors.Vocab object at 0x7faf557c5b38>, '落地': <gensim.models.keyedvectors.Vocab object at 0x7faf557c5b70>, '不幸': <gensim.models.keyedvectors.Vocab object at 0x7faf557c5ba8>, '提前': <gensim.models.keyedvectors.Vocab object at 0x7faf557c5be0>, '退出': <gensim.models.keyedvectors.Vocab object at 0x7faf557c5c18>, '今年': <gensim.models.keyedvectors.Vocab object at 0x7faf557c5c50>, '季后赛': <gensim.models.keyedvectors.Vocab object at 0x7faf557c5c88>, '李场': <gensim.models.keyedvectors.Vocab object at 0x7faf557c5cc0>, '出战': <gensim.models.keyedvectors.Vocab object at 0x7faf557c5cf8>, '4.1分': <gensim.models.keyedvectors.Vocab object at 0x7faf557c5d30>, '篮板': <gensim.models.keyedvectors.Vocab object at 0x7faf557c5d68>, '来源': <gensim.models.keyedvectors.Vocab object at 0x7faf557c5da0>, 'Twitter': <gensim.models.keyedvectors.Vocab object at 0x7faf557c5dd8>, '尤文': <gensim.models.keyedvectors.Vocab object at 0x7faf557c5e10>, '双冠': <gensim.models.keyedvectors.Vocab object at 0x7faf557c5e48>, '剑指': <gensim.models.keyedvectors.Vocab object at 0x7faf557c5e80>, '欧冠': <gensim.models.keyedvectors.Vocab object at 0x7faf557c5eb8>, '决赛': <gensim.models.keyedvectors.Vocab object at 0x7faf557c5ef0>, '皇马': <gensim.models.keyedvectors.Vocab object at 0x7faf557c5f28>, '北京': <gensim.models.keyedvectors.Vocab object at 0x7faf557c5f60>, '尤文图斯': <gensim.models.keyedvectors.Vocab object at 0x7faf557c5f98>, '血虐克': <gensim.models.keyedvectors.Vocab object at 0x7faf557c5fd0>, '罗托': <gensim.models.keyedvectors.Vocab object at 0x7faf557c9048>, '夺得': <gensim.models.keyedvectors.Vocab object at 0x7faf557c9080>, '意甲': <gensim.models.keyedvectors.Vocab object at 0x7faf557c90b8>, '冠军': <gensim.models.keyedvectors.Vocab object at 0x7faf557c90f0>, '史无前例': <gensim.models.keyedvectors.Vocab object at 0x7faf557c9128>, '蝉联': <gensim.models.keyedvectors.Vocab object at 0x7faf557c9160>, '18日': <gensim.models.keyedvectors.Vocab object at 0x7faf557c9198>, '意大利杯': <gensim.models.keyedvectors.Vocab object at 0x7faf557c91d0>, '实现': <gensim.models.keyedvectors.Vocab object at 0x7faf557c9208>, '杯赛': <gensim.models.keyedvectors.Vocab object at 0x7faf557c9240>, '三连冠': <gensim.models.keyedvectors.Vocab object at 0x7faf557c9278>, '目前': <gensim.models.keyedvectors.Vocab object at 0x7faf557c92b0>, '赛季': <gensim.models.keyedvectors.Vocab object at 0x7faf557c92e8>, '展现': <gensim.models.keyedvectors.Vocab object at 0x7faf557c9320>, '强大': <gensim.models.keyedvectors.Vocab object at 0x7faf557c9358>, '实力': <gensim.models.keyedvectors.Vocab object at 0x7faf557c9390>, '目标': <gensim.models.keyedvectors.Vocab object at 0x7faf557c93c8>, '13年': <gensim.models.keyedvectors.Vocab object at 0x7faf557c9400>, '拜仁': <gensim.models.keyedvectors.Vocab object at 0x7faf557c9438>, '上一场': <gensim.models.keyedvectors.Vocab object at 0x7faf557c9470>, '联赛': <gensim.models.keyedvectors.Vocab object at 0x7faf557c94a8>, '罗马': <gensim.models.keyedvectors.Vocab object at 0x7faf557c94e0>, '前景': <gensim.models.keyedvectors.Vocab object at 0x7faf557c9518>, '担忧': <gensim.models.keyedvectors.Vocab object at 0x7faf557c9550>, '斑马军团': <gensim.models.keyedvectors.Vocab object at 0x7faf557c9588>, '完美': <gensim.models.keyedvectors.Vocab object at 0x7faf557c95c0>, '打消': <gensim.models.keyedvectors.Vocab object at 0x7faf557c95f8>, '拥趸': <gensim.models.keyedvectors.Vocab object at 0x7faf557c9630>, '疑虑': <gensim.models.keyedvectors.Vocab object at 0x7faf557c9668>, '顺利': <gensim.models.keyedvectors.Vocab object at 0x7faf557c96a0>, '头衔': <gensim.models.keyedvectors.Vocab object at 0x7faf557c96d8>, '处于': <gensim.models.keyedvectors.Vocab object at 0x7faf557c9710>, '皮亚尼奇': <gensim.models.keyedvectors.Vocab object at 0x7faf557c9748>, '赫迪拉': <gensim.models.keyedvectors.Vocab object at 0x7faf557c9780>, '中场': <gensim.models.keyedvectors.Vocab object at 0x7faf557c97b8>, '主力': <gensim.models.keyedvectors.Vocab object at 0x7faf557c97f0>, '无法': <gensim.models.keyedvectors.Vocab object at 0x7faf557c9828>, '出场': <gensim.models.keyedvectors.Vocab object at 0x7faf557c9860>, '情况': <gensim.models.keyedvectors.Vocab object at 0x7faf557c9898>, '完成': <gensim.models.keyedvectors.Vocab object at 0x7faf557c98d0>, '卫冕': <gensim.models.keyedvectors.Vocab object at 0x7faf557c9908>, '想起': <gensim.models.keyedvectors.Vocab object at 0x7faf557c9940>, '拜仁慕尼黑': <gensim.models.keyedvectors.Vocab object at 0x7faf557c9978>, '当时': <gensim.models.keyedvectors.Vocab object at 0x7faf557c99b0>, '拥有': <gensim.models.keyedvectors.Vocab object at 0x7faf557c99e8>, '罗贝里': <gensim.models.keyedvectors.Vocab object at 0x7faf557c9a20>, '组合': <gensim.models.keyedvectors.Vocab object at 0x7faf557c9a58>, '穆勒': <gensim.models.keyedvectors.Vocab object at 0x7faf557c9a90>, '拉姆': <gensim.models.keyedvectors.Vocab object at 0x7faf557c9ac8>, '施魏': <gensim.models.keyedvectors.Vocab object at 0x7faf557c9b00>, '施泰格': <gensim.models.keyedvectors.Vocab object at 0x7faf557c9b38>, '防守': <gensim.models.keyedvectors.Vocab object at 0x7faf557c9b70>, '两端': <gensim.models.keyedvectors.Vocab object at 0x7faf557c9ba8>, '强硬': <gensim.models.keyedvectors.Vocab object at 0x7faf557c9be0>, '会师': <gensim.models.keyedvectors.Vocab object at 0x7faf557c9c18>, '罗本': <gensim.models.keyedvectors.Vocab object at 0x7faf557c9c50>, '一锤定音': <gensim.models.keyedvectors.Vocab object at 0x7faf557c9c88>, '球迷': <gensim.models.keyedvectors.Vocab object at 0x7faf557c9cc0>, '夜晚': <gensim.models.keyedvectors.Vocab object at 0x7faf557c9cf8>, '流下': <gensim.models.keyedvectors.Vocab object at 0x7faf557c9d30>, '热泪': <gensim.models.keyedvectors.Vocab object at 0x7faf557c9d68>, '布冯': <gensim.models.keyedvectors.Vocab object at 0x7faf557c9da0>, '能够': <gensim.models.keyedvectors.Vocab object at 0x7faf557c9dd8>, '年龄': <gensim.models.keyedvectors.Vocab object at 0x7faf557c9e10>, '耳朵杯': <gensim.models.keyedvectors.Vocab object at 0x7faf557c9e48>, '职业': <gensim.models.keyedvectors.Vocab object at 0x7faf557c9e80>, '生涯': <gensim.models.keyedvectors.Vocab object at 0x7faf557c9eb8>, '集齐': <gensim.models.keyedvectors.Vocab object at 0x7faf557c9ef0>, '世界杯': <gensim.models.keyedvectors.Vocab object at 0x7faf557c9f28>, '花式': <gensim.models.keyedvectors.Vocab object at 0x7faf557c9f60>, '吐饼': <gensim.models.keyedvectors.Vocab object at 0x7faf557c9f98>, '看看': <gensim.models.keyedvectors.Vocab object at 0x7faf557c9fd0>, '尼日利亚': <gensim.models.keyedvectors.Vocab object at 0x7faf5474a048>, '老乡': <gensim.models.keyedvectors.Vocab object at 0x7faf5474a080>, '中超': <gensim.models.keyedvectors.Vocab object at 0x7faf5474a0b8>, '继续': <gensim.models.keyedvectors.Vocab object at 0x7faf5474a0f0>, '展开': <gensim.models.keyedvectors.Vocab object at 0x7faf5474a128>, '较量': <gensim.models.keyedvectors.Vocab object at 0x7faf5474a160>, '长春': <gensim.models.keyedvectors.Vocab object at 0x7faf5474a198>, '亚泰': <gensim.models.keyedvectors.Vocab object at 0x7faf5474a1d0>, '坐镇': <gensim.models.keyedvectors.Vocab object at 0x7faf5474a208>, '经开': <gensim.models.keyedvectors.Vocab object at 0x7faf5474a240>, '体育场': <gensim.models.keyedvectors.Vocab object at 0x7faf5474a278>, '迎来': <gensim.models.keyedvectors.Vocab object at 0x7faf5474a2b0>, '天津': <gensim.models.keyedvectors.Vocab object at 0x7faf5474a2e8>, '泰达': <gensim.models.keyedvectors.Vocab object at 0x7faf5474a320>, '挑战': <gensim.models.keyedvectors.Vocab object at 0x7faf5474a358>, '。本场': <gensim.models.keyedvectors.Vocab object at 0x7faf5474a390>, '陷入': <gensim.models.keyedvectors.Vocab object at 0x7faf5474a3c8>, '保级': <gensim.models.keyedvectors.Vocab object at 0x7faf5474a400>, '泥潭': <gensim.models.keyedvectors.Vocab object at 0x7faf5474a438>, '试图': <gensim.models.keyedvectors.Vocab object at 0x7faf5474a470>, '上半场': <gensim.models.keyedvectors.Vocab object at 0x7faf5474a4a8>, '作战': <gensim.models.keyedvectors.Vocab object at 0x7faf5474a4e0>, '发难': <gensim.models.keyedvectors.Vocab object at 0x7faf5474a518>, '胡斯蒂': <gensim.models.keyedvectors.Vocab object at 0x7faf5474a550>, '主罚': <gensim.models.keyedvectors.Vocab object at 0x7faf5474a588>, '前场': <gensim.models.keyedvectors.Vocab object at 0x7faf5474a5c0>, '任意球': <gensim.models.keyedvectors.Vocab object at 0x7faf5474a5f8>, '中卫': <gensim.models.keyedvectors.Vocab object at 0x7faf5474a630>, '孙捷': <gensim.models.keyedvectors.Vocab object at 0x7faf5474a668>, '力压': <gensim.models.keyedvectors.Vocab object at 0x7faf5474a6a0>, '球员': <gensim.models.keyedvectors.Vocab object at 0x7faf5474a6d8>, '头槌': <gensim.models.keyedvectors.Vocab object at 0x7faf5474a710>, '破门': <gensim.models.keyedvectors.Vocab object at 0x7faf5474a748>, '主队': <gensim.models.keyedvectors.Vocab object at 0x7faf5474a780>, '纪录': <gensim.models.keyedvectors.Vocab object at 0x7faf5474a7b8>, '下半场': <gensim.models.keyedvectors.Vocab object at 0x7faf5474a7f0>, '惠家康': <gensim.models.keyedvectors.Vocab object at 0x7faf5474a828>, '精彩': <gensim.models.keyedvectors.Vocab object at 0x7faf5474a860>, '边路': <gensim.models.keyedvectors.Vocab object at 0x7faf5474a898>, '突破': <gensim.models.keyedvectors.Vocab object at 0x7faf5474a8d0>, '助攻': <gensim.models.keyedvectors.Vocab object at 0x7faf5474a908>, '德耶': <gensim.models.keyedvectors.Vocab object at 0x7faf5474a940>, '闪电': <gensim.models.keyedvectors.Vocab object at 0x7faf5474a978>, '扳平': <gensim.models.keyedvectors.Vocab object at 0x7faf5474a9b0>, '双方': <gensim.models.keyedvectors.Vocab object at 0x7faf5474a9e8>, '起跑线': <gensim.models.keyedvectors.Vocab object at 0x7faf5474aa20>, '制造': <gensim.models.keyedvectors.Vocab object at 0x7faf5474aa58>, '机会': <gensim.models.keyedvectors.Vocab object at 0x7faf5474aa90>, '获得': <gensim.models.keyedvectors.Vocab object at 0x7faf5474aac8>, '点球': <gensim.models.keyedvectors.Vocab object at 0x7faf5474ab00>, '良机': <gensim.models.keyedvectors.Vocab object at 0x7faf5474ab38>, '皮球': <gensim.models.keyedvectors.Vocab object at 0x7faf5474ab70>, '直接': <gensim.models.keyedvectors.Vocab object at 0x7faf5474aba8>, '送入': <gensim.models.keyedvectors.Vocab object at 0x7faf5474abe0>, '对方': <gensim.models.keyedvectors.Vocab object at 0x7faf5474ac18>, '门将': <gensim.models.keyedvectors.Vocab object at 0x7faf5474ac50>, '怀中': <gensim.models.keyedvectors.Vocab object at 0x7faf5474ac88>, '未能': <gensim.models.keyedvectors.Vocab object at 0x7faf5474acc0>, '战罢': <gensim.models.keyedvectors.Vocab object at 0x7faf5474acf8>, '握手言和': <gensim.models.keyedvectors.Vocab object at 0x7faf5474ad30>, '相比': <gensim.models.keyedvectors.Vocab object at 0x7faf5474ad68>, '平和': <gensim.models.keyedvectors.Vocab object at 0x7faf5474ada0>, '外援': <gensim.models.keyedvectors.Vocab object at 0x7faf5474add8>, '浪费': <gensim.models.keyedvectors.Vocab object at 0x7faf5474ae10>, '进球': <gensim.models.keyedvectors.Vocab object at 0x7faf5474ae48>, '唏嘘不已': <gensim.models.keyedvectors.Vocab object at 0x7faf5474ae80>, '队长': <gensim.models.keyedvectors.Vocab object at 0x7faf5474aeb8>}\n"
     ]
    }
   ],
   "source": [
    "print(model.wv.vocab)"
   ]
  },
  {
   "cell_type": "code",
   "execution_count": 15,
   "metadata": {},
   "outputs": [
    {
     "name": "stdout",
     "output_type": "stream",
     "text": [
      "[ 7.7705324e-04 -2.0465499e-04  1.3387915e-03 -8.8253873e-04\n",
      "  1.1696359e-03 -1.1407604e-03 -5.4002373e-04 -1.2669552e-03\n",
      "  2.3183833e-04  3.5103370e-04  4.0078435e-06  1.0019640e-04\n",
      " -9.0414612e-04 -6.4213667e-04  1.6558547e-04 -3.7367146e-05\n",
      "  8.1066648e-04 -3.4734095e-04 -8.9685043e-04 -1.0566617e-03\n",
      "  5.3612544e-04 -6.8215275e-04  1.4020207e-03  1.1788657e-03\n",
      " -8.9101010e-04 -5.8532553e-04  1.4711305e-03 -4.1610689e-04\n",
      " -1.4854216e-03 -5.5736902e-05  6.1411665e-05 -2.5302899e-04\n",
      " -6.6092814e-04  3.4552292e-04 -8.4136915e-04  6.9836562e-04\n",
      " -1.3801969e-03  7.4658869e-04  5.6790910e-04 -1.4377561e-04\n",
      " -7.8529680e-05 -8.8737591e-04  1.0391906e-03  1.4472327e-03\n",
      "  5.8499631e-04  6.8371056e-04  8.0636150e-04  1.2387208e-03\n",
      " -1.0032234e-03  1.1391767e-03 -1.4215548e-03 -1.0394807e-03\n",
      " -1.5332705e-03 -1.4657924e-03 -6.4641505e-04 -3.6046060e-04\n",
      "  2.0051964e-04  1.5297119e-03 -1.4597636e-03  4.4508657e-04\n",
      " -1.1229002e-03 -5.3812930e-04 -1.6431788e-03  2.3146313e-04\n",
      " -1.5174052e-03  9.9342200e-04 -1.1666709e-05  6.2290969e-04\n",
      "  2.1575353e-04 -1.1822864e-03 -4.5373532e-04  1.0127547e-03\n",
      "  8.6526945e-04  8.4886892e-04 -4.9492664e-04 -1.5080058e-03\n",
      " -1.3620955e-03 -4.6746994e-04 -3.9740923e-04 -4.5866935e-04\n",
      "  1.3408719e-03  1.1410193e-03  9.8531961e-04 -6.0692424e-04\n",
      " -1.0297662e-03  1.6483308e-03 -8.8996213e-04  4.6438989e-04\n",
      " -4.6613437e-04 -8.8676892e-04  9.7100902e-04 -1.4923344e-03\n",
      "  1.6037360e-03  2.5599013e-04 -5.3679978e-04 -1.5288834e-03\n",
      " -1.4896238e-03  1.6286311e-03 -1.4170964e-03 -5.6947025e-05\n",
      " -1.1427894e-03  1.1516346e-03 -5.5566913e-04  8.7441277e-04\n",
      " -4.6749407e-04  1.4905559e-03  1.3263037e-03  1.4895790e-03\n",
      "  3.4750588e-04  1.1080340e-03  5.5632618e-04 -7.8123336e-04\n",
      " -5.9874484e-04 -1.2657474e-03  1.3485111e-03 -4.2427448e-04\n",
      "  4.2772503e-04  9.4274059e-04 -1.0392560e-03  1.3677590e-03\n",
      "  4.5101118e-04  9.6880358e-05  8.6409244e-04  2.5375051e-04\n",
      "  6.9925061e-04  1.0557137e-03  7.8207748e-05 -9.7892480e-04\n",
      " -3.1408225e-04 -1.2986207e-03 -1.1921428e-03 -1.1519059e-03\n",
      " -1.0391541e-03  3.6482295e-04  1.1277657e-03 -6.2641199e-04\n",
      "  3.9182423e-04  1.0223418e-03  4.6485930e-04  6.6106283e-04\n",
      " -2.8896451e-04 -1.5682676e-04 -4.5905297e-04 -1.2030400e-03\n",
      " -9.5747516e-04 -1.5730069e-03  2.2099593e-04  1.0722149e-03\n",
      " -3.9191073e-04 -9.7911071e-04 -8.8233163e-04 -6.4394955e-04\n",
      " -3.0592832e-04  1.0669789e-03 -8.1641774e-05 -9.7535411e-04\n",
      "  2.9211439e-04  2.9396417e-04  6.8754912e-04  1.2124553e-03\n",
      "  1.1236349e-03  1.1359510e-03  1.2461327e-03  1.5733742e-04\n",
      "  1.6239665e-03 -1.0780313e-03 -2.2895666e-04 -1.1549949e-03\n",
      "  1.4388345e-03  5.5989163e-04  1.0190767e-04  9.9802692e-04\n",
      "  8.3539280e-04  4.7485062e-04  1.3696636e-03 -1.0677055e-04\n",
      " -5.5903546e-04  1.1790261e-03  9.9417160e-04 -9.7374473e-04\n",
      "  1.8214331e-04  1.8169443e-04 -1.1211671e-03 -1.5522623e-03\n",
      " -7.3938764e-04  1.5247706e-03 -9.0572354e-04  1.0606436e-04\n",
      "  1.6024684e-03  8.5513416e-04 -1.2019099e-03  2.6831168e-04\n",
      "  7.0246303e-04 -3.8144804e-04  9.2993432e-04 -9.2200673e-04\n",
      " -1.4506426e-03 -3.3123317e-04 -8.0108049e-04  1.5420589e-03\n",
      "  9.8873291e-04 -7.0187845e-04 -3.2379117e-04  2.1818618e-05\n",
      "  5.4910046e-04  7.5913308e-04 -4.9934251e-04  5.2950863e-04\n",
      " -6.2576815e-04  1.4580913e-03  3.5022973e-04  7.7811547e-04\n",
      " -1.5018390e-03  3.3391805e-04  7.7933457e-04  1.0632351e-03\n",
      " -5.0127995e-04  1.5464584e-04 -7.6068612e-04  5.6003610e-04\n",
      "  8.7570713e-04  1.0360269e-03  3.1754389e-04 -4.9476197e-04\n",
      "  1.1258746e-03  1.1485341e-03 -8.2176726e-04 -9.3254837e-04\n",
      " -2.0130565e-04  1.1350155e-04  1.1450161e-03  1.4989302e-03\n",
      "  2.0696620e-05 -3.5925777e-04  8.1315346e-04  7.1495399e-04\n",
      "  3.8631645e-04 -9.1693137e-04  1.0620679e-03 -9.5352909e-04\n",
      " -7.0162577e-04  1.0196799e-03 -8.6872978e-04 -1.5879718e-03\n",
      " -2.1289321e-04  1.2737816e-03 -1.1073893e-03  9.2568582e-05\n",
      "  1.4792467e-03  1.1794560e-03  6.1267870e-04 -1.6483865e-03\n",
      " -5.7528797e-04  1.6176970e-04  1.1691941e-03 -2.6140679e-04\n",
      "  1.2786527e-03  1.0592354e-03 -8.8776962e-04 -1.6254931e-03\n",
      "  7.5427262e-04 -5.2746141e-04  4.4808352e-05 -4.2255275e-04\n",
      "  9.9828001e-04  2.2819778e-04 -1.2387765e-04  9.8399655e-04\n",
      "  1.4892346e-03 -1.4390296e-03  1.1886572e-03  1.1361075e-03\n",
      "  7.2114117e-04  1.3082899e-03 -5.4634950e-04  5.9373991e-04\n",
      "  3.6694694e-04  1.5892676e-04  3.3291505e-04  8.6716824e-04\n",
      "  1.0022612e-03  1.1672293e-03 -2.1116855e-04  1.4450656e-03\n",
      " -3.9425335e-04  1.3278108e-03 -7.1177440e-04  3.1340096e-04\n",
      "  5.6970282e-04 -1.6269251e-03 -8.1221131e-04 -1.5839267e-03\n",
      " -3.1502117e-04  7.6211215e-04 -1.0762510e-03 -1.6952370e-04\n",
      "  5.2120374e-04  1.0087176e-03  1.3086388e-03  1.4134600e-03]\n"
     ]
    },
    {
     "name": "stderr",
     "output_type": "stream",
     "text": [
      "/root/anaconda3/lib/python3.6/site-packages/ipykernel_launcher.py:3: DeprecationWarning: Call to deprecated `most_similar` (Method will be removed in 4.0.0, use self.wv.most_similar() instead).\n",
      "  This is separate from the ipykernel package so we can avoid doing imports until\n"
     ]
    },
    {
     "name": "stdout",
     "output_type": "stream",
     "text": [
      "[('篮球', 0.1415141224861145), ('4.1分', 0.12744344770908356), ('对方', 0.1254427582025528), ('扳平', 0.11198741942644119), ('强大', 0.10724624991416931), ('中场', 0.10684762895107269), ('RamonaShelburne', 0.10367708653211594), ('生涯', 0.10185915231704712), ('怀中', 0.09479498118162155), ('剑指', 0.08421549946069717)]\n"
     ]
    },
    {
     "name": "stderr",
     "output_type": "stream",
     "text": [
      "/root/anaconda3/lib/python3.6/site-packages/gensim/matutils.py:737: FutureWarning: Conversion of the second argument of issubdtype from `int` to `np.signedinteger` is deprecated. In future, it will be treated as `np.int64 == np.dtype(int).type`.\n",
      "  if np.issubdtype(vec.dtype, np.int):\n"
     ]
    }
   ],
   "source": [
    "model=Word2Vec.load('word2vec.model')\n",
    "print(model.wv['球员'])\n",
    "print(model.most_similar('球员'))"
   ]
  },
  {
   "cell_type": "code",
   "execution_count": 16,
   "metadata": {},
   "outputs": [
    {
     "name": "stdout",
     "output_type": "stream",
     "text": [
      "球员\n",
      "[('篮球', 0.1415141224861145), ('4.1分', 0.12744344770908356), ('对方', 0.1254427582025528), ('扳平', 0.11198741942644119), ('强大', 0.10724624991416931), ('中场', 0.10684762895107269), ('RamonaShelburne', 0.10367708653211594), ('生涯', 0.10185915231704712), ('怀中', 0.09479498118162155), ('剑指', 0.08421549946069717)]\n",
      "大卫\n",
      "[('18日', 0.14717653393745422), ('继续', 0.1279333233833313), ('对方', 0.12751412391662598), ('不幸', 0.1228371411561966), ('篮板', 0.10629753768444061), ('能够', 0.10320398956537247), ('孙捷', 0.10238273441791534), ('前场', 0.09881319850683212), ('目前', 0.09770940244197845), ('主场', 0.09744307398796082)]\n",
      "篮球\n",
      "[('膝盖', 0.14748120307922363), ('球员', 0.1415141224861145), ('展现', 0.13935954868793488), ('主场', 0.12540219724178314), ('突破', 0.11871883273124695), ('血虐克', 0.1106625646352768), ('相比', 0.1067504957318306), ('实力', 0.10641773045063019), ('情况', 0.09872928261756897), ('头衔', 0.09653583914041519)]\n"
     ]
    },
    {
     "name": "stderr",
     "output_type": "stream",
     "text": [
      "/root/anaconda3/lib/python3.6/site-packages/ipykernel_launcher.py:3: DeprecationWarning: Call to deprecated `most_similar` (Method will be removed in 4.0.0, use self.wv.most_similar() instead).\n",
      "  This is separate from the ipykernel package so we can avoid doing imports until\n",
      "/root/anaconda3/lib/python3.6/site-packages/gensim/matutils.py:737: FutureWarning: Conversion of the second argument of issubdtype from `int` to `np.signedinteger` is deprecated. In future, it will be treated as `np.int64 == np.dtype(int).type`.\n",
      "  if np.issubdtype(vec.dtype, np.int):\n"
     ]
    }
   ],
   "source": [
    "testwords=['球员','大卫','篮球']\n",
    "for i in range(3):\n",
    "    res=model.most_similar(testwords[i])\n",
    "    print(testwords[i])\n",
    "    print(res)"
   ]
  },
  {
   "cell_type": "code",
   "execution_count": null,
   "metadata": {},
   "outputs": [],
   "source": []
  }
 ],
 "metadata": {
  "kernelspec": {
   "display_name": "Python 3",
   "language": "python",
   "name": "python3"
  },
  "language_info": {
   "codemirror_mode": {
    "name": "ipython",
    "version": 3
   },
   "file_extension": ".py",
   "mimetype": "text/x-python",
   "name": "python",
   "nbconvert_exporter": "python",
   "pygments_lexer": "ipython3",
   "version": "3.6.5"
  }
 },
 "nbformat": 4,
 "nbformat_minor": 2
}
