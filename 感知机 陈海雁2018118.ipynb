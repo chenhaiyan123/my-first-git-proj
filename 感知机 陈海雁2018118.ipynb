{
 "cells": [
  {
   "cell_type": "code",
   "execution_count": 74,
   "metadata": {},
   "outputs": [],
   "source": [
    "import pandas as pd\n",
    "import numpy as np\n",
    "import matplotlib.pyplot as plt"
   ]
  },
  {
   "cell_type": "code",
   "execution_count": 75,
   "metadata": {},
   "outputs": [],
   "source": [
    "data=pd.read_csv('Iris.csv')\n",
    "data.drop('Id',axis=1,inplace=True)\n",
    "data.drop_duplicates(inplace=True)\n",
    "data['Species'].drop_duplicates()\n",
    "data['Species']=data['Species'].map({'Iris-setosa':0,'Iris-versicolor':-1,'Iris-virginica':1})\n",
    "data=data[data['Species']!=0]\n"
   ]
  },
  {
   "cell_type": "code",
   "execution_count": 76,
   "metadata": {},
   "outputs": [],
   "source": [
    "class Perceptron:\n",
    "    def __init__(self,alpha,times):\n",
    "        self.alpha=alpha\n",
    "        self.times=times\n",
    "    def step(self,z):\n",
    "        return np.where(z>=0,1,-1)\n",
    "    def fit(self,X,y):\n",
    "        X=np.asarray(X)\n",
    "        y=np.asarray(y)\n",
    "        self.loss_=[]\n",
    "        self.w=np.zeros(1+X.shape[1])\n",
    "        \n",
    "        for i in range(self.times):\n",
    "            loss=0\n",
    "            for x,target in zip(X,y):\n",
    "                y_hat=self.step(np.dot(x,self.w[1:])+self.w[0])\n",
    "                loss+=target!=y_hat\n",
    "                self.w[0]+=self.alpha*(target-y_hat)\n",
    "                self.w[1:]+=self.alpha*(target-y_hat)*x\n",
    "            self.loss_.append(loss)\n",
    "    def predict(self,X):\n",
    "        y_hat=self.step(np.dot(X,self.w[1:])+self.w[0])\n",
    "        return y_hat\n",
    "        "
   ]
  },
  {
   "cell_type": "code",
   "execution_count": 84,
   "metadata": {},
   "outputs": [
    {
     "data": {
      "text/plain": [
       "array([-1, -1, -1,  1,  1,  1,  1,  1,  1,  1, -1, -1,  1, -1, -1,  1,  1,\n",
       "       -1,  1,  1, -1, -1,  1, -1,  1,  1,  1, -1, -1])"
      ]
     },
     "metadata": {},
     "output_type": "display_data"
    },
    {
     "data": {
      "text/plain": [
       "array([-1, -1, -1,  1,  1,  1, -1,  1,  1,  1, -1, -1,  1, -1, -1,  1,  1,\n",
       "       -1,  1,  1, -1, -1,  1, -1,  1,  1,  1, -1, -1])"
      ]
     },
     "metadata": {},
     "output_type": "display_data"
    }
   ],
   "source": [
    "t=data.sample(len(data),random_state=0)\n",
    "train_X=t.iloc[:70,:-1]\n",
    "train_y=t.iloc[:70,-1]\n",
    "test_X=t.iloc[70:,:-1]\n",
    "test_y=t.iloc[70:,-1]\n",
    "\n",
    "pt=Perceptron(alpha=0.5,times=600)\n",
    "pt.fit(train_X,train_y)\n",
    "y_hat=pt.predict(test_X)\n",
    "display(y_hat)\n",
    "display(test_y.values)"
   ]
  },
  {
   "cell_type": "code",
   "execution_count": 85,
   "metadata": {},
   "outputs": [],
   "source": [
    "import matplotlib as mpl\n",
    "import matplotlib.pyplot as plt\n",
    "mpl.rcParams[\"font.family\"] = \"SimHei\"\n",
    "mpl.rcParams[\"axes.unicode_minus\"] = False"
   ]
  },
  {
   "cell_type": "code",
   "execution_count": 86,
   "metadata": {},
   "outputs": [
    {
     "data": {
      "image/png": "[encoded data removed]",
      "text/plain": [
       "<Figure size 432x288 with 1 Axes>"
      ]
     },
     "metadata": {},
     "output_type": "display_data"
    }
   ],
   "source": [
    "# 绘制真实值\n",
    "plt.plot(test_y.values, \"go\", ms=15, label=\"真实值\")\n",
    "# 绘制预测值\n",
    "plt.plot(y_hat, \"rx\", ms=15, label=\"预测值\")\n",
    "plt.title(\"感知器二分类\")\n",
    "plt.xlabel(\"样本序号\")\n",
    "plt.ylabel(\"类别\")\n",
    "plt.legend()\n",
    "plt.show()"
   ]
  },
  {
   "cell_type": "code",
   "execution_count": null,
   "metadata": {},
   "outputs": [],
   "source": []
  }
 ],
 "metadata": {
  "kernelspec": {
   "display_name": "Python 3",
   "language": "python",
   "name": "python3"
  },
  "language_info": {
   "codemirror_mode": {
    "name": "ipython",
    "version": 3
   },
   "file_extension": ".py",
   "mimetype": "text/x-python",
   "name": "python",
   "nbconvert_exporter": "python",
   "pygments_lexer": "ipython3",
   "version": "3.6.5"
  }
 },
 "nbformat": 4,
 "nbformat_minor": 2
}
