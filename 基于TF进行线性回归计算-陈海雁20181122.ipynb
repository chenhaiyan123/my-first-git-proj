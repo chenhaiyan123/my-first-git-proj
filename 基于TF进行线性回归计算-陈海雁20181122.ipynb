{
 "cells": [
  {
   "cell_type": "code",
   "execution_count": 2,
   "metadata": {},
   "outputs": [],
   "source": [
    "import numpy as np\n",
    "import tensorflow as tf\n",
    "import matplotlib.pyplot as plt\n",
    "import matplotlib.patches as mpatches\n",
    "%matplotlib inline\n",
    "plt.rcParams['figure.figsize']=[10,6]"
   ]
  },
  {
   "cell_type": "code",
   "execution_count": 7,
   "metadata": {},
   "outputs": [],
   "source": [
    "x_data=np.random.rand(100).astype(np.float32)\n",
    "y_data=x_data*3+2\n",
    "y_data=np.vectorize(lambda y:y+np.random.normal(loc=0.0,scale=0.1))(y_data)"
   ]
  },
  {
   "cell_type": "code",
   "execution_count": 10,
   "metadata": {},
   "outputs": [],
   "source": [
    "a=tf.Variable(1.0)\n",
    "b=tf.Variable(0.2)\n",
    "y=a*x_data+b"
   ]
  },
  {
   "cell_type": "code",
   "execution_count": 12,
   "metadata": {},
   "outputs": [],
   "source": [
    "loss=tf.reduce_mean(tf.square(y-y_data))\n",
    "optimizer=tf.train.GradientDescentOptimizer(0.5)\n",
    "train=optimizer.minimize(loss)\n"
   ]
  },
  {
   "cell_type": "code",
   "execution_count": 14,
   "metadata": {},
   "outputs": [],
   "source": [
    "init=tf.global_variables_initializer()\n",
    "sess=tf.Session()\n",
    "sess.run(init)"
   ]
  },
  {
   "cell_type": "code",
   "execution_count": 24,
   "metadata": {},
   "outputs": [
    {
     "name": "stdout",
     "output_type": "stream",
     "text": [
      "0 [3.0471344, 1.9852835]\n",
      "5 [3.0471344, 1.9852835]\n",
      "10 [3.0471344, 1.9852835]\n",
      "15 [3.0471344, 1.9852835]\n",
      "20 [3.0471344, 1.9852835]\n",
      "25 [3.0471344, 1.9852835]\n",
      "30 [3.0471344, 1.9852835]\n",
      "35 [3.0471344, 1.9852835]\n",
      "40 [3.0471344, 1.9852835]\n",
      "45 [3.0471344, 1.9852835]\n",
      "50 [3.0471344, 1.9852835]\n",
      "55 [3.0471344, 1.9852835]\n",
      "60 [3.0471344, 1.9852835]\n",
      "65 [3.0471344, 1.9852835]\n",
      "70 [3.0471344, 1.9852835]\n",
      "75 [3.0471344, 1.9852835]\n",
      "80 [3.0471344, 1.9852835]\n",
      "85 [3.0471344, 1.9852835]\n",
      "90 [3.0471344, 1.9852835]\n",
      "95 [3.0471344, 1.9852835]\n"
     ]
    }
   ],
   "source": [
    "train_data = []\n",
    "for step in range(100):\n",
    "    evals = sess.run([train,a,b])[1:]\n",
    "    if step % 5 == 0:\n",
    "        print(step, evals)\n",
    "        train_data.append(evals)"
   ]
  },
  {
   "cell_type": "code",
   "execution_count": 25,
   "metadata": {},
   "outputs": [
    {
     "data": {
      "image/png": "[encoded data removed]",
      "text/plain": [
       "<Figure size 720x432 with 1 Axes>"
      ]
     },
     "metadata": {
      "needs_background": "light"
     },
     "output_type": "display_data"
    },
    {
     "name": "stdout",
     "output_type": "stream",
     "text": [
      "[3.0471344, 1.9852835]\n"
     ]
    }
   ],
   "source": [
    "converter = plt.colors\n",
    "\n",
    "for f in train_data:\n",
    "\n",
    "    [a, b] = f\n",
    "\n",
    "    f_y = np.vectorize(lambda x: a*x + b)(x_data)\n",
    "\n",
    "    line = plt.plot(x_data, f_y)\n",
    "\n",
    "    plt.setp(line, color=(1,1,0))\n",
    "\n",
    "plt.plot(x_data, y_data, 'ro')\n",
    "\n",
    "fy = x_data*evals[0]+evals[1]\n",
    "\n",
    "line = plt.plot(x_data, f_y)\n",
    "\n",
    "plt.setp(line, color=(0,0,1))\n",
    "\n",
    "f_line = mpatches.Patch(color='red', label='Data Points')\n",
    "\n",
    "plt.legend(handles=[f_line])\n",
    "\n",
    "plt.show()\n",
    "\n",
    "print(evals)\n"
   ]
  },
  {
   "cell_type": "code",
   "execution_count": null,
   "metadata": {},
   "outputs": [],
   "source": []
  }
 ],
 "metadata": {
  "kernelspec": {
   "display_name": "Python 3",
   "language": "python",
   "name": "python3"
  },
  "language_info": {
   "codemirror_mode": {
    "name": "ipython",
    "version": 3
   },
   "file_extension": ".py",
   "mimetype": "text/x-python",
   "name": "python",
   "nbconvert_exporter": "python",
   "pygments_lexer": "ipython3",
   "version": "3.6.5"
  }
 },
 "nbformat": 4,
 "nbformat_minor": 2
}
