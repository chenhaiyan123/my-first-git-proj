{
 "cells": [
  {
   "cell_type": "code",
   "execution_count": 1,
   "metadata": {},
   "outputs": [],
   "source": [
    "import pandas as pd\n",
    "import numpy as np\n",
    "import matplotlib.pyplot as plt"
   ]
  },
  {
   "cell_type": "code",
   "execution_count": 17,
   "metadata": {
    "scrolled": true
   },
   "outputs": [],
   "source": [
    "data=pd.read_csv('Iris.csv')\n",
    "data.drop('Id',axis=1,inplace=True)\n",
    "#Iris-setosa  Iris-versicolor  Iris-virginica\n",
    "data.drop_duplicates(inplace=True)\n",
    "data['Species']=data['Species'].map({'Iris-setosa':0,'Iris-versicolor':1,'Iris-virginica':2})\n",
    "data=data[data['Species']!=2]\n",
    "#data.info"
   ]
  },
  {
   "cell_type": "code",
   "execution_count": 60,
   "metadata": {},
   "outputs": [],
   "source": [
    "class LogistRegression:\n",
    "    def __init__(self,alpha,times):\n",
    "        self.alpha=alpha\n",
    "        self.times=times\n",
    "    def sigmoid(self,z):\n",
    "        return 1/(1+np.exp(-z))\n",
    "    def fit(self,X,y):\n",
    "        self.X=np.asarray(X)\n",
    "        self.y=np.asarray(y)\n",
    "        self.w=np.zeros(1+X.shape[1])\n",
    "        self.loss=[]\n",
    "        for i in range(self.times):\n",
    "            z=np.dot(X,self.w[1:])+self.w[0]\n",
    "            p=self.sigmoid(z)\n",
    "            cost=-np.sum(y*np.log(p)+(1-y)*np.log(1-p))\n",
    "            self.loss.append(cost)\n",
    "            self.w[0]+=self.alpha*np.sum(y-p)\n",
    "            self.w[1:]+=self.alpha*np.dot(X.T,(y-p))\n",
    "    def predict_pro(self,X):\n",
    "        X=np.asarray(X)\n",
    "        z=np.dot(X,self.w[1:])+self.w[0]\n",
    "        p=self.sigmoid(z)\n",
    "        p=p.reshape(-1,1)\n",
    "        return np.concatenate([1-p,p],axis=1)\n",
    "    def predict(self,X):\n",
    "        return np.argmax(self.predict_pro(X),axis=1)\n",
    "            \n",
    "            "
   ]
  },
  {
   "cell_type": "code",
   "execution_count": 65,
   "metadata": {},
   "outputs": [
    {
     "data": {
      "text/plain": [
       "1.0"
      ]
     },
     "metadata": {},
     "output_type": "display_data"
    }
   ],
   "source": [
    "t=data.sample(len(data),random_state=0)\n",
    "train_X=t.iloc[:70,:-1]\n",
    "train_y=t.iloc[:70,-1]\n",
    "test_X=t.iloc[70:,:-1]\n",
    "test_y=t.iloc[70:,-1]\n",
    "\n",
    "lg=LogistRegression(alpha=0.01,times=20)\n",
    "lg.fit(train_X,train_y)\n",
    "#lg.predict_pro(test_X)\n",
    "result=lg.predict(test_X)\n",
    "#display(r)\n",
    "display(np.sum(result==test_y)/len(test_y))"
   ]
  },
  {
   "cell_type": "code",
   "execution_count": 66,
   "metadata": {},
   "outputs": [],
   "source": [
    "import matplotlib as mpl\n",
    "import matplotlib.pyplot as plt\n",
    "mpl.rcParams[\"font.family\"] = \"SimHei\"\n",
    "mpl.rcParams[\"axes.unicode_minus\"] = False"
   ]
  },
  {
   "cell_type": "code",
   "execution_count": 67,
   "metadata": {},
   "outputs": [
    {
     "data": {
      "image/png": "[encoded data removed]",
      "text/plain": [
       "<Figure size 432x288 with 1 Axes>"
      ]
     },
     "metadata": {},
     "output_type": "display_data"
    }
   ],
   "source": [
    "# 绘制预测值\n",
    "plt.plot(result, \"ro\", ms=15, label=\"预测值\")\n",
    "# 绘制真实值\n",
    "plt.plot(test_y.values, \"go\", label=\"真实值\")\n",
    "plt.title(\"逻辑回归\")\n",
    "plt.xlabel(\"样本序号\")\n",
    "plt.ylabel(\"类别\")\n",
    "plt.legend()\n",
    "plt.show()"
   ]
  },
  {
   "cell_type": "code",
   "execution_count": 68,
   "metadata": {},
   "outputs": [
    {
     "data": {
      "text/plain": [
       "[<matplotlib.lines.Line2D at 0x1127c8860>]"
      ]
     },
     "execution_count": 68,
     "metadata": {},
     "output_type": "execute_result"
    },
    {
     "data": {
      "image/png": "[encoded data removed]",
      "text/plain": [
       "<Figure size 432x288 with 1 Axes>"
      ]
     },
     "metadata": {},
     "output_type": "display_data"
    }
   ],
   "source": [
    "\n",
    "\n",
    "# 绘制目标函数的损失值\n",
    "plt.plot(range(1, lg.times + 1),lg.loss, \"go-\")"
   ]
  },
  {
   "cell_type": "code",
   "execution_count": null,
   "metadata": {},
   "outputs": [],
   "source": []
  },
  {
   "cell_type": "code",
   "execution_count": null,
   "metadata": {},
   "outputs": [],
   "source": []
  }
 ],
 "metadata": {
  "kernelspec": {
   "display_name": "Python 3",
   "language": "python",
   "name": "python3"
  },
  "language_info": {
   "codemirror_mode": {
    "name": "ipython",
    "version": 3
   },
   "file_extension": ".py",
   "mimetype": "text/x-python",
   "name": "python",
   "nbconvert_exporter": "python",
   "pygments_lexer": "ipython3",
   "version": "3.6.5"
  }
 },
 "nbformat": 4,
 "nbformat_minor": 2
}
